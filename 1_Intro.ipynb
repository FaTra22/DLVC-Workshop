{
 "metadata": {
  "language_info": {
   "codemirror_mode": {
    "name": "ipython",
    "version": 3
   },
   "file_extension": ".py",
   "mimetype": "text/x-python",
   "name": "python",
   "nbconvert_exporter": "python",
   "pygments_lexer": "ipython3",
   "version": "3.9.0-final"
  },
  "orig_nbformat": 2,
  "kernelspec": {
   "name": "python3",
   "display_name": "Python 3.9.0 64-bit",
   "metadata": {
    "interpreter": {
     "hash": "aee8b7b246df8f9039afb4144a1f6fd8d2ca17a180786b69acc140d282b71a49"
    }
   }
  }
 },
 "nbformat": 4,
 "nbformat_minor": 2,
 "cells": [
  {
   "source": [
    "# Image Classification\n",
    "\n",
    "What is Image Classificaiton?\n",
    "\n",
    "- \"What is shown in this image?\" --> Only 1 correct answer\n",
    "\n",
    "![classification](images/classification.png)\n",
    "\n",
    "Multiple Answers --> Object Detection\n",
    "\n",
    "![detection](images/detection.png)\n",
    "\n"
   ],
   "cell_type": "markdown",
   "metadata": {}
  },
  {
   "source": [
    "## First Approaches\n",
    "\n",
    "Very Basic Overview:\n",
    "\n",
    "1. Extract Features manually\n",
    "\n",
    "        e.g.: Pixel Values --> Not very good Features\n",
    "        \n",
    "    Need good Features:\n",
    "\n",
    "        e.g.: size, color, hasWhiskers, ...\n",
    "\n",
    "2. Use ML-Classification Algorithm\n",
    "\n",
    "        e.g.: Linear Clasifier, Decision Tree, KNN, ...."
   ],
   "cell_type": "markdown",
   "metadata": {}
  },
  {
   "source": [
    "## Deep Learning for the rescue\n",
    "\n",
    "What does a Deep Neural Network bring to the table?\n",
    "\n",
    "Why do we make more than 1 layer?\n",
    "\n",
    "![think](images/think.gif)\n"
   ],
   "cell_type": "markdown",
   "metadata": {}
  },
  {
   "source": [
    "## Feature Learning!\n",
    "\n",
    "![cnn](images/cnn.png)"
   ],
   "cell_type": "markdown",
   "metadata": {}
  },
  {
   "cell_type": "code",
   "execution_count": null,
   "metadata": {},
   "outputs": [],
   "source": []
  }
 ]
}
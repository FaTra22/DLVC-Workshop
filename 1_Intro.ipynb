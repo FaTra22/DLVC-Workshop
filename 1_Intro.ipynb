{
 "metadata": {
  "language_info": {
   "codemirror_mode": {
    "name": "ipython",
    "version": 3
   },
   "file_extension": ".py",
   "mimetype": "text/x-python",
   "name": "python",
   "nbconvert_exporter": "python",
   "pygments_lexer": "ipython3",
   "version": "3.9.0-final"
  },
  "orig_nbformat": 2,
  "kernelspec": {
   "name": "python3",
   "display_name": "Python 3.9.0 64-bit",
   "metadata": {
    "interpreter": {
     "hash": "aee8b7b246df8f9039afb4144a1f6fd8d2ca17a180786b69acc140d282b71a49"
    }
   }
  }
 },
 "nbformat": 4,
 "nbformat_minor": 2,
 "cells": [
  {
   "source": [
    "# Image Classification\n",
    "\n",
    "\n",
    "## Agenda\n",
    "\n",
    "1. Image Classification Overview\n",
    "\n",
    "2. Convolutional Neural Networks\n",
    "\n",
    "3. Image Classification in PyTorch\n",
    "\n",
    "4. Network Analysis\n"
   ],
   "cell_type": "markdown",
   "metadata": {}
  },
  {
   "source": [
    "## What is Image Classificaiton?\n",
    "\n",
    "Classify an image into one of x <ins>predefined</ins> labels \n",
    "\n",
    "- \"What is shown in this image?\" --> Only 1 correct answer\n",
    "\n",
    "![classification](images/classification.png)\n",
    "\n",
    "### Other Forms of Visual Computing\n",
    "\n",
    "Multiple Answers --> <ins>Object Detection</ins>\n",
    "\n",
    "![detection](images/detection.png)\n",
    "\n",
    "Locate Object in Image --> <ins>Image Segmentation</ins>\n",
    "\n"
   ],
   "cell_type": "markdown",
   "metadata": {}
  },
  {
   "source": [
    "## First Approaches\n",
    "\n",
    "Very Basic Overview:\n",
    "\n",
    "1. Extract Features manually\n",
    "\n",
    "        e.g.: Pixel Values --> Not very good Features\n",
    "        \n",
    "    Need good Features:\n",
    "\n",
    "        e.g.: size, color, hasWhiskers, ...\n",
    "\n",
    "2. Use ML-Classification Algorithm\n",
    "\n",
    "        e.g.: Linear Clasifier, Decision Tree, KNN, ...."
   ],
   "cell_type": "markdown",
   "metadata": {}
  },
  {
   "source": [
    "## Deep Learning for the rescue\n",
    "\n",
    "What does a Deep Neural Network bring to the table?\n",
    "\n",
    "Why do we make more than 1 layer?\n",
    "\n",
    "![think](images/think.gif)\n"
   ],
   "cell_type": "markdown",
   "metadata": {}
  },
  {
   "source": [
    "## Feature Learning!\n",
    "\n",
    "![cnn](images/cnn.png)"
   ],
   "cell_type": "markdown",
   "metadata": {}
  }
 ]
}
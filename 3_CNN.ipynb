{
 "metadata": {
  "language_info": {
   "codemirror_mode": {
    "name": "ipython",
    "version": 3
   },
   "file_extension": ".py",
   "mimetype": "text/x-python",
   "name": "python",
   "nbconvert_exporter": "python",
   "pygments_lexer": "ipython3",
   "version": 3
  },
  "orig_nbformat": 2
 },
 "nbformat": 4,
 "nbformat_minor": 2,
 "cells": [
  {
   "source": [
    "# Convolutional Neural Networks\n",
    "\n",
    "A CNN is a Neural Network which consits of Convolutional Layers and Fully Connected Layers.\n",
    "\n",
    "![cnn](images/cnn_featureLearning.jpeg)\n",
    "\n",
    "[Source](https://towardsdatascience.com/a-comprehensive-guide-to-convolutional-neural-networks-the-eli5-way-3bd2b1164a53)"
   ],
   "cell_type": "markdown",
   "metadata": {}
  },
  {
   "source": [
    "## Components of a CNN \n",
    "\n",
    "1. Convolutional Layers\n",
    "\n",
    "2. Acitvation Function\n",
    "\n",
    "3. Pooling Layers\n",
    "\n",
    "4. Fully Connected Layers"
   ],
   "cell_type": "markdown",
   "metadata": {}
  },
  {
   "source": [
    "### 1. Convolutional Layer\n",
    "\n",
    "Used to extract Features\n",
    "\n",
    "![conv_layer](images/conv_layer.gif)\n",
    "\n",
    "[Source](https://towardsdatascience.com/a-comprehensive-guide-to-convolutional-neural-networks-the-eli5-way-3bd2b1164a53)\n",
    "\n",
    "### Design Kernels\n",
    "\n",
    "Could design Convolutional Kernel (first attempts) and then classify results.\n",
    "\n",
    "#### Learn Kernel\n",
    "\n",
    "Use backpropagation to learn the kernels according to data\n",
    "\n",
    "\n"
   ],
   "cell_type": "markdown",
   "metadata": {}
  },
  {
   "source": [
    "### 2. Activation Function\n",
    "\n",
    "#### Rectified Linear Unit (ReLU)\n",
    "\n",
    "![relu](images/relu.png)\n",
    "\n",
    "[Source](https://machinelearningmastery.com/rectified-linear-activation-function-for-deep-learning-neural-networks/)\n"
   ],
   "cell_type": "markdown",
   "metadata": {}
  },
  {
   "cell_type": "code",
   "execution_count": null,
   "metadata": {},
   "outputs": [],
   "source": []
  },
  {
   "cell_type": "code",
   "execution_count": null,
   "metadata": {},
   "outputs": [],
   "source": []
  }
 ]
}